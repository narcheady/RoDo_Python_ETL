{
 "cells": [
  {
   "cell_type": "markdown",
   "metadata": {},
   "source": [
    "# Importing required modules for \n",
    "- Scraping twitter using twitter api\n",
    "- Pandas for saving data in dataframe\n",
    "- Matplotlib for creating visualizations"
   ]
  },
  {
   "cell_type": "code",
   "execution_count": 2,
   "metadata": {},
   "outputs": [
    {
     "name": "stdout",
     "output_type": "stream",
     "text": [
      "Requirement already satisfied: twitter in c:\\users\\ruchi\\appdata\\local\\continuum\\anaconda3\\lib\\site-packages (1.18.0)\n",
      "Note: you may need to restart the kernel to use updated packages.\n"
     ]
    }
   ],
   "source": [
    "pip install twitter"
   ]
  },
  {
   "cell_type": "code",
   "execution_count": 3,
   "metadata": {},
   "outputs": [],
   "source": [
    "import pandas as pd\n",
    "from twitter import Twitter\n",
    "from twitter import OAuth"
   ]
  },
  {
   "cell_type": "code",
   "execution_count": 117,
   "metadata": {},
   "outputs": [],
   "source": [
    "pd.set_option('display.max_colwidth', None)"
   ]
  },
  {
   "cell_type": "markdown",
   "metadata": {},
   "source": [
    "- Setting up authentication paramenters for twitter api"
   ]
  },
  {
   "cell_type": "code",
   "execution_count": 4,
   "metadata": {},
   "outputs": [],
   "source": [
    "accesstoken = '1306383817473699840-7lOFPXnXan5KjfF2JGlepqalGq2EaX'\n",
    "accesstokensecret= 'z0wokk3M7z7A7mHJll1UAX7QlYiPUAVv1Fx62W92awpHi'\n",
    "apikey = 'LMcVqFvyJSyBSJIiusvuv2qwz'\n",
    "apisecretkey = 'ten59LiLXRwRUVbnwwBBef52GJfifUGfAxe4mpGMoiu4cMfdIN'"
   ]
  },
  {
   "cell_type": "code",
   "execution_count": 5,
   "metadata": {},
   "outputs": [],
   "source": [
    "oauth=OAuth(accesstoken,accesstokensecret,apikey,apisecretkey)\n",
    "api = Twitter(auth=oauth,retry=True)"
   ]
  },
  {
   "cell_type": "markdown",
   "metadata": {},
   "source": [
    "- Searching tweets by handle marswxreport, filtering out retweets"
   ]
  },
  {
   "cell_type": "code",
   "execution_count": 125,
   "metadata": {},
   "outputs": [],
   "source": [
    "tweetList = api.search.tweets(q=\"marswxreport lang:en -filter:retweets\",tweetmode='extended',count=100)"
   ]
  },
  {
   "cell_type": "markdown",
   "metadata": {},
   "source": [
    "- Saving the resultset in pandas dataframe"
   ]
  },
  {
   "cell_type": "code",
   "execution_count": 126,
   "metadata": {},
   "outputs": [],
   "source": [
    "tweetTable=pd.json_normalize(tweetList['statuses'])"
   ]
  },
  {
   "cell_type": "code",
   "execution_count": 127,
   "metadata": {},
   "outputs": [],
   "source": [
    "tweetTable = tweetTable[['text']]"
   ]
  },
  {
   "cell_type": "code",
   "execution_count": 128,
   "metadata": {},
   "outputs": [
    {
     "data": {
      "text/html": [
       "<div>\n",
       "<style scoped>\n",
       "    .dataframe tbody tr th:only-of-type {\n",
       "        vertical-align: middle;\n",
       "    }\n",
       "\n",
       "    .dataframe tbody tr th {\n",
       "        vertical-align: top;\n",
       "    }\n",
       "\n",
       "    .dataframe thead th {\n",
       "        text-align: right;\n",
       "    }\n",
       "</style>\n",
       "<table border=\"1\" class=\"dataframe\">\n",
       "  <thead>\n",
       "    <tr style=\"text-align: right;\">\n",
       "      <th></th>\n",
       "      <th>text</th>\n",
       "    </tr>\n",
       "  </thead>\n",
       "  <tbody>\n",
       "    <tr>\n",
       "      <th>0</th>\n",
       "      <td>Perseverance sol 130 (Jul 1, 2021), high -24.7ºC/-12.5ºF, low -81.7ºC/-115.1ºF, pressure at 7.54 hPa and falling, d… https://t.co/f3nBMxEZHk</td>\n",
       "    </tr>\n",
       "    <tr>\n",
       "      <th>1</th>\n",
       "      <td>@cambridge105 Hello DJUnreal from the OARC Pub regulars. Here is the Weather on Mars. https://t.co/TeSUdrWT56</td>\n",
       "    </tr>\n",
       "    <tr>\n",
       "      <th>2</th>\n",
       "      <td>@MarsWxReport Wow. That’s practically balmy in the middle of the day!</td>\n",
       "    </tr>\n",
       "    <tr>\n",
       "      <th>3</th>\n",
       "      <td>Perseverance sol 129 (Jun 30, 2021), high -21.7ºC/-7.1ºF, low -82.0ºC/-115.6ºF, pressure at 7.55 hPa and falling, d… https://t.co/Rai4FytQzl</td>\n",
       "    </tr>\n",
       "    <tr>\n",
       "      <th>4</th>\n",
       "      <td>Pacific Northwest friends, may I suggest Mars as a good spot to beat the summer heat https://t.co/ZGcf82cGEY</td>\n",
       "    </tr>\n",
       "    <tr>\n",
       "      <th>5</th>\n",
       "      <td>Perseverance sol 128 (Jun 29, 2021), high -26.9ºC/-16.4ºF, low -81.2ºC/-114.2ºF, pressure at 7.57 hPa and steady, d… https://t.co/ycVXSMGpOv</td>\n",
       "    </tr>\n",
       "    <tr>\n",
       "      <th>6</th>\n",
       "      <td>Perseverance sol 127 (Jun 28, 2021), high -24.8ºC/-12.6ºF, low -81.3ºC/-114.3ºF, pressure at 7.57 hPa and rising, d… https://t.co/hsevN6UmS1</td>\n",
       "    </tr>\n",
       "    <tr>\n",
       "      <th>7</th>\n",
       "      <td>Perseverance sol 126 (Jun 27, 2021), high -26.6ºC/-15.9ºF, low -80.1ºC/-112.2ºF, pressure at 7.56 hPa and falling,… https://t.co/WTI8Z1VOBF</td>\n",
       "    </tr>\n",
       "    <tr>\n",
       "      <th>8</th>\n",
       "      <td>Perseverance sol 125 (Jun 26, 2021), high -24.6ºC/-12.3ºF, low -81.3ºC/-114.3ºF, pressure at 7.57 hPa and steady, daylight 05:24:08-18:28:30</td>\n",
       "    </tr>\n",
       "    <tr>\n",
       "      <th>9</th>\n",
       "      <td>Perseverance sol 124 (Jun 25, 2021), high -25.7ºC/-14.3ºF, low -81.1ºC/-114.0ºF, pressure at 7.57 hPa and falling,… https://t.co/fKH5w2H7SH</td>\n",
       "    </tr>\n",
       "    <tr>\n",
       "      <th>10</th>\n",
       "      <td>Perseverance sol 123 (Jun 24, 2021), high -23.2ºC/-9.8ºF, low -82.5ºC/-116.5ºF, pressure at 7.58 hPa and steady, daylight 05:24:56-18:28:42</td>\n",
       "    </tr>\n",
       "    <tr>\n",
       "      <th>11</th>\n",
       "      <td>Perseverance sol 122 (Jun 23, 2021), high -23.9ºC/-11.0ºF, low -81.3ºC/-114.3ºF, pressure at 7.58 hPa and rising, daylight 05:25:20-18:28:49</td>\n",
       "    </tr>\n",
       "    <tr>\n",
       "      <th>12</th>\n",
       "      <td>Perseverance sol 121 (Jun 22, 2021), high -24.7ºC/-12.5ºF, low -82.5ºC/-116.5ºF, pressure at 7.57 hPa and Unknown,… https://t.co/sosbvRZTVg</td>\n",
       "    </tr>\n",
       "    <tr>\n",
       "      <th>13</th>\n",
       "      <td>Perseverance sol 120 (Jun 21, 2021), high -25.0ºC/-13.0ºF, low -81.1ºC/-114.0ºF, pressure at 7.58 hPa and steady, d… https://t.co/IcDRBzuX1J</td>\n",
       "    </tr>\n",
       "    <tr>\n",
       "      <th>14</th>\n",
       "      <td>Perseverance sol 119 (Jun 20, 2021), high -25.0ºC/-13.0ºF, low -82.1ºC/-115.8ºF, pressure at 7.58 hPa and falling,… https://t.co/RX9Cv9VYGU</td>\n",
       "    </tr>\n",
       "    <tr>\n",
       "      <th>15</th>\n",
       "      <td>@papageezy @MarsWxReport I’ll take it!</td>\n",
       "    </tr>\n",
       "    <tr>\n",
       "      <th>16</th>\n",
       "      <td>@Sharif07Aslam @elonmusk @SpaceX @MarsWxReport @NASA_Marshall @Tesla @teslacn @BoredElonMusk @ElonJet Happy Birthday Anal Musk</td>\n",
       "    </tr>\n",
       "    <tr>\n",
       "      <th>17</th>\n",
       "      <td>@Lisaney83 Mars was -11 last week per @MarsWxReport</td>\n",
       "    </tr>\n",
       "  </tbody>\n",
       "</table>\n",
       "</div>"
      ],
      "text/plain": [
       "                                                                                                                                            text\n",
       "0   Perseverance sol 130 (Jul 1, 2021), high -24.7ºC/-12.5ºF, low -81.7ºC/-115.1ºF, pressure at 7.54 hPa and falling, d… https://t.co/f3nBMxEZHk\n",
       "1                                  @cambridge105 Hello DJUnreal from the OARC Pub regulars. Here is the Weather on Mars. https://t.co/TeSUdrWT56\n",
       "2                                                                          @MarsWxReport Wow. That’s practically balmy in the middle of the day!\n",
       "3   Perseverance sol 129 (Jun 30, 2021), high -21.7ºC/-7.1ºF, low -82.0ºC/-115.6ºF, pressure at 7.55 hPa and falling, d… https://t.co/Rai4FytQzl\n",
       "4                                   Pacific Northwest friends, may I suggest Mars as a good spot to beat the summer heat https://t.co/ZGcf82cGEY\n",
       "5   Perseverance sol 128 (Jun 29, 2021), high -26.9ºC/-16.4ºF, low -81.2ºC/-114.2ºF, pressure at 7.57 hPa and steady, d… https://t.co/ycVXSMGpOv\n",
       "6   Perseverance sol 127 (Jun 28, 2021), high -24.8ºC/-12.6ºF, low -81.3ºC/-114.3ºF, pressure at 7.57 hPa and rising, d… https://t.co/hsevN6UmS1\n",
       "7    Perseverance sol 126 (Jun 27, 2021), high -26.6ºC/-15.9ºF, low -80.1ºC/-112.2ºF, pressure at 7.56 hPa and falling,… https://t.co/WTI8Z1VOBF\n",
       "8   Perseverance sol 125 (Jun 26, 2021), high -24.6ºC/-12.3ºF, low -81.3ºC/-114.3ºF, pressure at 7.57 hPa and steady, daylight 05:24:08-18:28:30\n",
       "9    Perseverance sol 124 (Jun 25, 2021), high -25.7ºC/-14.3ºF, low -81.1ºC/-114.0ºF, pressure at 7.57 hPa and falling,… https://t.co/fKH5w2H7SH\n",
       "10   Perseverance sol 123 (Jun 24, 2021), high -23.2ºC/-9.8ºF, low -82.5ºC/-116.5ºF, pressure at 7.58 hPa and steady, daylight 05:24:56-18:28:42\n",
       "11  Perseverance sol 122 (Jun 23, 2021), high -23.9ºC/-11.0ºF, low -81.3ºC/-114.3ºF, pressure at 7.58 hPa and rising, daylight 05:25:20-18:28:49\n",
       "12   Perseverance sol 121 (Jun 22, 2021), high -24.7ºC/-12.5ºF, low -82.5ºC/-116.5ºF, pressure at 7.57 hPa and Unknown,… https://t.co/sosbvRZTVg\n",
       "13  Perseverance sol 120 (Jun 21, 2021), high -25.0ºC/-13.0ºF, low -81.1ºC/-114.0ºF, pressure at 7.58 hPa and steady, d… https://t.co/IcDRBzuX1J\n",
       "14   Perseverance sol 119 (Jun 20, 2021), high -25.0ºC/-13.0ºF, low -82.1ºC/-115.8ºF, pressure at 7.58 hPa and falling,… https://t.co/RX9Cv9VYGU\n",
       "15                                                                                                        @papageezy @MarsWxReport I’ll take it!\n",
       "16                @Sharif07Aslam @elonmusk @SpaceX @MarsWxReport @NASA_Marshall @Tesla @teslacn @BoredElonMusk @ElonJet Happy Birthday Anal Musk\n",
       "17                                                                                           @Lisaney83 Mars was -11 last week per @MarsWxReport"
      ]
     },
     "execution_count": 128,
     "metadata": {},
     "output_type": "execute_result"
    }
   ],
   "source": [
    "tweetTable"
   ]
  },
  {
   "cell_type": "markdown",
   "metadata": {},
   "source": [
    "- Checking if there are any duplicate rows, since there aren't any we don't need to remove them"
   ]
  },
  {
   "cell_type": "code",
   "execution_count": 164,
   "metadata": {},
   "outputs": [
    {
     "data": {
      "text/plain": [
       "Perseverance sol 125 (Jun 26, 2021), high -24.6ºC/-12.3ºF, low -81.3ºC/-114.3ºF, pressure at 7.57 hPa and steady, daylight 05:24:08-18:28:30    1\n",
       "Perseverance sol 122 (Jun 23, 2021), high -23.9ºC/-11.0ºF, low -81.3ºC/-114.3ºF, pressure at 7.58 hPa and rising, daylight 05:25:20-18:28:49    1\n",
       "Perseverance sol 126 (Jun 27, 2021), high -26.6ºC/-15.9ºF, low -80.1ºC/-112.2ºF, pressure at 7.56 hPa and falling,… https://t.co/WTI8Z1VOBF     1\n",
       "Perseverance sol 119 (Jun 20, 2021), high -25.0ºC/-13.0ºF, low -82.1ºC/-115.8ºF, pressure at 7.58 hPa and falling,… https://t.co/RX9Cv9VYGU     1\n",
       "Perseverance sol 129 (Jun 30, 2021), high -21.7ºC/-7.1ºF, low -82.0ºC/-115.6ºF, pressure at 7.55 hPa and falling, d… https://t.co/Rai4FytQzl    1\n",
       "Perseverance sol 121 (Jun 22, 2021), high -24.7ºC/-12.5ºF, low -82.5ºC/-116.5ºF, pressure at 7.57 hPa and Unknown,… https://t.co/sosbvRZTVg     1\n",
       "Perseverance sol 124 (Jun 25, 2021), high -25.7ºC/-14.3ºF, low -81.1ºC/-114.0ºF, pressure at 7.57 hPa and falling,… https://t.co/fKH5w2H7SH     1\n",
       "Perseverance sol 127 (Jun 28, 2021), high -24.8ºC/-12.6ºF, low -81.3ºC/-114.3ºF, pressure at 7.57 hPa and rising, d… https://t.co/hsevN6UmS1    1\n",
       "Perseverance sol 130 (Jul 1, 2021), high -24.7ºC/-12.5ºF, low -81.7ºC/-115.1ºF, pressure at 7.54 hPa and falling, d… https://t.co/f3nBMxEZHk    1\n",
       "Perseverance sol 128 (Jun 29, 2021), high -26.9ºC/-16.4ºF, low -81.2ºC/-114.2ºF, pressure at 7.57 hPa and steady, d… https://t.co/ycVXSMGpOv    1\n",
       "Perseverance sol 123 (Jun 24, 2021), high -23.2ºC/-9.8ºF, low -82.5ºC/-116.5ºF, pressure at 7.58 hPa and steady, daylight 05:24:56-18:28:42     1\n",
       "Perseverance sol 120 (Jun 21, 2021), high -25.0ºC/-13.0ºF, low -81.1ºC/-114.0ºF, pressure at 7.58 hPa and steady, d… https://t.co/IcDRBzuX1J    1\n",
       "Name: text, dtype: int64"
      ]
     },
     "execution_count": 164,
     "metadata": {},
     "output_type": "execute_result"
    }
   ],
   "source": [
    "tweetTable['text'].value_counts()"
   ]
  },
  {
   "cell_type": "markdown",
   "metadata": {},
   "source": [
    "- Testing out the RegEx on sample row for extracting required parameters."
   ]
  },
  {
   "cell_type": "code",
   "execution_count": 137,
   "metadata": {},
   "outputs": [
    {
     "data": {
      "text/plain": [
       "'Perseverance sol 126 (Jun 27, 2021), high -26.6ºC/-15.9ºF, low -80.1ºC/-112.2ºF, pressure at 7.56 hPa and falling,… https://t.co/WTI8Z1VOBF'"
      ]
     },
     "execution_count": 137,
     "metadata": {},
     "output_type": "execute_result"
    }
   ],
   "source": [
    "tweetTable.iloc[4][0]"
   ]
  },
  {
   "cell_type": "code",
   "execution_count": 131,
   "metadata": {},
   "outputs": [],
   "source": [
    "import re"
   ]
  },
  {
   "cell_type": "code",
   "execution_count": 138,
   "metadata": {},
   "outputs": [],
   "source": [
    "s = \"Perseverance sol 126 (Jun 27, 2021), high -26.6ºC/-15.9ºF, low -80.1ºC/-112.2ºF, pressure at 7.56 hPa and falling,… https://t.co/WTI8Z1VOBF\""
   ]
  },
  {
   "cell_type": "code",
   "execution_count": 139,
   "metadata": {},
   "outputs": [
    {
     "data": {
      "text/plain": [
       "['Perseverance sol 126 (Jun 27',\n",
       " ' 2021)',\n",
       " ' high -26.6ºC/-15.9ºF',\n",
       " ' low -80.1ºC/-112.2ºF',\n",
       " ' pressure at 7.56 hPa and falling',\n",
       " '… https://t.co/WTI8Z1VOBF']"
      ]
     },
     "execution_count": 139,
     "metadata": {},
     "output_type": "execute_result"
    }
   ],
   "source": [
    "s.split(',')"
   ]
  },
  {
   "cell_type": "markdown",
   "metadata": {},
   "source": [
    "- Extracting Temperature Low"
   ]
  },
  {
   "cell_type": "code",
   "execution_count": 141,
   "metadata": {},
   "outputs": [
    {
     "data": {
      "text/plain": [
       "'-80.1'"
      ]
     },
     "execution_count": 141,
     "metadata": {},
     "output_type": "execute_result"
    }
   ],
   "source": [
    "#low\n",
    "s.split(',')[3].split('/')[0].split(' ')[-1].split('ºC')[0]"
   ]
  },
  {
   "cell_type": "markdown",
   "metadata": {},
   "source": [
    "- Extracting Temperature High"
   ]
  },
  {
   "cell_type": "code",
   "execution_count": 143,
   "metadata": {},
   "outputs": [
    {
     "data": {
      "text/plain": [
       "'-26.6'"
      ]
     },
     "execution_count": 143,
     "metadata": {},
     "output_type": "execute_result"
    }
   ],
   "source": [
    "#high\n",
    "s.split(',')[2].split('/')[0].split(' ')[-1].split('ºC')[0]"
   ]
  },
  {
   "cell_type": "markdown",
   "metadata": {},
   "source": [
    "- Extracting Pressure"
   ]
  },
  {
   "cell_type": "code",
   "execution_count": 145,
   "metadata": {},
   "outputs": [
    {
     "data": {
      "text/plain": [
       "'7.56'"
      ]
     },
     "execution_count": 145,
     "metadata": {},
     "output_type": "execute_result"
    }
   ],
   "source": [
    "#pressure\n",
    "s.split(',')[4].split(' ')[3]"
   ]
  },
  {
   "cell_type": "markdown",
   "metadata": {},
   "source": [
    "- Extracting Date"
   ]
  },
  {
   "cell_type": "code",
   "execution_count": 165,
   "metadata": {},
   "outputs": [
    {
     "name": "stdout",
     "output_type": "stream",
     "text": [
      "Jun 27, 2021\n"
     ]
    }
   ],
   "source": [
    "t1 = re.split('\\(([^\\)]+)\\)', s)\n",
    "print(t1[1])"
   ]
  },
  {
   "cell_type": "code",
   "execution_count": 132,
   "metadata": {},
   "outputs": [],
   "source": [
    "tweetTable['Date']=tweetTable['text'].str.extract('\\(([^\\)]+)\\)')"
   ]
  },
  {
   "cell_type": "markdown",
   "metadata": {},
   "source": [
    "- Removing the nulls, some rows were not about the weather. So we can drop them."
   ]
  },
  {
   "cell_type": "code",
   "execution_count": 133,
   "metadata": {},
   "outputs": [],
   "source": [
    "tweetTable = tweetTable.dropna()\n",
    "tweetTable = tweetTable.reset_index(drop=True)"
   ]
  },
  {
   "cell_type": "code",
   "execution_count": 134,
   "metadata": {},
   "outputs": [
    {
     "data": {
      "text/html": [
       "<div>\n",
       "<style scoped>\n",
       "    .dataframe tbody tr th:only-of-type {\n",
       "        vertical-align: middle;\n",
       "    }\n",
       "\n",
       "    .dataframe tbody tr th {\n",
       "        vertical-align: top;\n",
       "    }\n",
       "\n",
       "    .dataframe thead th {\n",
       "        text-align: right;\n",
       "    }\n",
       "</style>\n",
       "<table border=\"1\" class=\"dataframe\">\n",
       "  <thead>\n",
       "    <tr style=\"text-align: right;\">\n",
       "      <th></th>\n",
       "      <th>text</th>\n",
       "      <th>Date</th>\n",
       "    </tr>\n",
       "  </thead>\n",
       "  <tbody>\n",
       "    <tr>\n",
       "      <th>0</th>\n",
       "      <td>Perseverance sol 130 (Jul 1, 2021), high -24.7ºC/-12.5ºF, low -81.7ºC/-115.1ºF, pressure at 7.54 hPa and falling, d… https://t.co/f3nBMxEZHk</td>\n",
       "      <td>Jul 1, 2021</td>\n",
       "    </tr>\n",
       "    <tr>\n",
       "      <th>1</th>\n",
       "      <td>Perseverance sol 129 (Jun 30, 2021), high -21.7ºC/-7.1ºF, low -82.0ºC/-115.6ºF, pressure at 7.55 hPa and falling, d… https://t.co/Rai4FytQzl</td>\n",
       "      <td>Jun 30, 2021</td>\n",
       "    </tr>\n",
       "    <tr>\n",
       "      <th>2</th>\n",
       "      <td>Perseverance sol 128 (Jun 29, 2021), high -26.9ºC/-16.4ºF, low -81.2ºC/-114.2ºF, pressure at 7.57 hPa and steady, d… https://t.co/ycVXSMGpOv</td>\n",
       "      <td>Jun 29, 2021</td>\n",
       "    </tr>\n",
       "    <tr>\n",
       "      <th>3</th>\n",
       "      <td>Perseverance sol 127 (Jun 28, 2021), high -24.8ºC/-12.6ºF, low -81.3ºC/-114.3ºF, pressure at 7.57 hPa and rising, d… https://t.co/hsevN6UmS1</td>\n",
       "      <td>Jun 28, 2021</td>\n",
       "    </tr>\n",
       "    <tr>\n",
       "      <th>4</th>\n",
       "      <td>Perseverance sol 126 (Jun 27, 2021), high -26.6ºC/-15.9ºF, low -80.1ºC/-112.2ºF, pressure at 7.56 hPa and falling,… https://t.co/WTI8Z1VOBF</td>\n",
       "      <td>Jun 27, 2021</td>\n",
       "    </tr>\n",
       "    <tr>\n",
       "      <th>5</th>\n",
       "      <td>Perseverance sol 125 (Jun 26, 2021), high -24.6ºC/-12.3ºF, low -81.3ºC/-114.3ºF, pressure at 7.57 hPa and steady, daylight 05:24:08-18:28:30</td>\n",
       "      <td>Jun 26, 2021</td>\n",
       "    </tr>\n",
       "    <tr>\n",
       "      <th>6</th>\n",
       "      <td>Perseverance sol 124 (Jun 25, 2021), high -25.7ºC/-14.3ºF, low -81.1ºC/-114.0ºF, pressure at 7.57 hPa and falling,… https://t.co/fKH5w2H7SH</td>\n",
       "      <td>Jun 25, 2021</td>\n",
       "    </tr>\n",
       "    <tr>\n",
       "      <th>7</th>\n",
       "      <td>Perseverance sol 123 (Jun 24, 2021), high -23.2ºC/-9.8ºF, low -82.5ºC/-116.5ºF, pressure at 7.58 hPa and steady, daylight 05:24:56-18:28:42</td>\n",
       "      <td>Jun 24, 2021</td>\n",
       "    </tr>\n",
       "    <tr>\n",
       "      <th>8</th>\n",
       "      <td>Perseverance sol 122 (Jun 23, 2021), high -23.9ºC/-11.0ºF, low -81.3ºC/-114.3ºF, pressure at 7.58 hPa and rising, daylight 05:25:20-18:28:49</td>\n",
       "      <td>Jun 23, 2021</td>\n",
       "    </tr>\n",
       "    <tr>\n",
       "      <th>9</th>\n",
       "      <td>Perseverance sol 121 (Jun 22, 2021), high -24.7ºC/-12.5ºF, low -82.5ºC/-116.5ºF, pressure at 7.57 hPa and Unknown,… https://t.co/sosbvRZTVg</td>\n",
       "      <td>Jun 22, 2021</td>\n",
       "    </tr>\n",
       "    <tr>\n",
       "      <th>10</th>\n",
       "      <td>Perseverance sol 120 (Jun 21, 2021), high -25.0ºC/-13.0ºF, low -81.1ºC/-114.0ºF, pressure at 7.58 hPa and steady, d… https://t.co/IcDRBzuX1J</td>\n",
       "      <td>Jun 21, 2021</td>\n",
       "    </tr>\n",
       "    <tr>\n",
       "      <th>11</th>\n",
       "      <td>Perseverance sol 119 (Jun 20, 2021), high -25.0ºC/-13.0ºF, low -82.1ºC/-115.8ºF, pressure at 7.58 hPa and falling,… https://t.co/RX9Cv9VYGU</td>\n",
       "      <td>Jun 20, 2021</td>\n",
       "    </tr>\n",
       "  </tbody>\n",
       "</table>\n",
       "</div>"
      ],
      "text/plain": [
       "                                                                                                                                            text  \\\n",
       "0   Perseverance sol 130 (Jul 1, 2021), high -24.7ºC/-12.5ºF, low -81.7ºC/-115.1ºF, pressure at 7.54 hPa and falling, d… https://t.co/f3nBMxEZHk   \n",
       "1   Perseverance sol 129 (Jun 30, 2021), high -21.7ºC/-7.1ºF, low -82.0ºC/-115.6ºF, pressure at 7.55 hPa and falling, d… https://t.co/Rai4FytQzl   \n",
       "2   Perseverance sol 128 (Jun 29, 2021), high -26.9ºC/-16.4ºF, low -81.2ºC/-114.2ºF, pressure at 7.57 hPa and steady, d… https://t.co/ycVXSMGpOv   \n",
       "3   Perseverance sol 127 (Jun 28, 2021), high -24.8ºC/-12.6ºF, low -81.3ºC/-114.3ºF, pressure at 7.57 hPa and rising, d… https://t.co/hsevN6UmS1   \n",
       "4    Perseverance sol 126 (Jun 27, 2021), high -26.6ºC/-15.9ºF, low -80.1ºC/-112.2ºF, pressure at 7.56 hPa and falling,… https://t.co/WTI8Z1VOBF   \n",
       "5   Perseverance sol 125 (Jun 26, 2021), high -24.6ºC/-12.3ºF, low -81.3ºC/-114.3ºF, pressure at 7.57 hPa and steady, daylight 05:24:08-18:28:30   \n",
       "6    Perseverance sol 124 (Jun 25, 2021), high -25.7ºC/-14.3ºF, low -81.1ºC/-114.0ºF, pressure at 7.57 hPa and falling,… https://t.co/fKH5w2H7SH   \n",
       "7    Perseverance sol 123 (Jun 24, 2021), high -23.2ºC/-9.8ºF, low -82.5ºC/-116.5ºF, pressure at 7.58 hPa and steady, daylight 05:24:56-18:28:42   \n",
       "8   Perseverance sol 122 (Jun 23, 2021), high -23.9ºC/-11.0ºF, low -81.3ºC/-114.3ºF, pressure at 7.58 hPa and rising, daylight 05:25:20-18:28:49   \n",
       "9    Perseverance sol 121 (Jun 22, 2021), high -24.7ºC/-12.5ºF, low -82.5ºC/-116.5ºF, pressure at 7.57 hPa and Unknown,… https://t.co/sosbvRZTVg   \n",
       "10  Perseverance sol 120 (Jun 21, 2021), high -25.0ºC/-13.0ºF, low -81.1ºC/-114.0ºF, pressure at 7.58 hPa and steady, d… https://t.co/IcDRBzuX1J   \n",
       "11   Perseverance sol 119 (Jun 20, 2021), high -25.0ºC/-13.0ºF, low -82.1ºC/-115.8ºF, pressure at 7.58 hPa and falling,… https://t.co/RX9Cv9VYGU   \n",
       "\n",
       "            Date  \n",
       "0    Jul 1, 2021  \n",
       "1   Jun 30, 2021  \n",
       "2   Jun 29, 2021  \n",
       "3   Jun 28, 2021  \n",
       "4   Jun 27, 2021  \n",
       "5   Jun 26, 2021  \n",
       "6   Jun 25, 2021  \n",
       "7   Jun 24, 2021  \n",
       "8   Jun 23, 2021  \n",
       "9   Jun 22, 2021  \n",
       "10  Jun 21, 2021  \n",
       "11  Jun 20, 2021  "
      ]
     },
     "execution_count": 134,
     "metadata": {},
     "output_type": "execute_result"
    }
   ],
   "source": [
    "tweetTable"
   ]
  },
  {
   "cell_type": "markdown",
   "metadata": {},
   "source": [
    "- Applying the above tested RegEx on the DataFrame for creating the required columns"
   ]
  },
  {
   "cell_type": "code",
   "execution_count": 146,
   "metadata": {},
   "outputs": [],
   "source": [
    "for i in tweetTable.index:\n",
    "    tweetTable.at[i, 'Temperature High'] = tweetTable.at[i, 'text'].split(',')[2].split('/')[0].split(' ')[-1].split('ºC')[0]\n",
    "    tweetTable.at[i, 'Temperature Low'] = tweetTable.at[i, 'text'].split(',')[3].split('/')[0].split(' ')[-1].split('ºC')[0]\n",
    "    tweetTable.at[i, 'Pressure'] = tweetTable.at[i, 'text'].split(',')[4].split(' ')[3]"
   ]
  },
  {
   "cell_type": "code",
   "execution_count": 147,
   "metadata": {},
   "outputs": [
    {
     "data": {
      "text/html": [
       "<div>\n",
       "<style scoped>\n",
       "    .dataframe tbody tr th:only-of-type {\n",
       "        vertical-align: middle;\n",
       "    }\n",
       "\n",
       "    .dataframe tbody tr th {\n",
       "        vertical-align: top;\n",
       "    }\n",
       "\n",
       "    .dataframe thead th {\n",
       "        text-align: right;\n",
       "    }\n",
       "</style>\n",
       "<table border=\"1\" class=\"dataframe\">\n",
       "  <thead>\n",
       "    <tr style=\"text-align: right;\">\n",
       "      <th></th>\n",
       "      <th>text</th>\n",
       "      <th>Date</th>\n",
       "      <th>Temperature High</th>\n",
       "      <th>Temperature Low</th>\n",
       "      <th>Pressure</th>\n",
       "    </tr>\n",
       "  </thead>\n",
       "  <tbody>\n",
       "    <tr>\n",
       "      <th>0</th>\n",
       "      <td>Perseverance sol 130 (Jul 1, 2021), high -24.7ºC/-12.5ºF, low -81.7ºC/-115.1ºF, pressure at 7.54 hPa and falling, d… https://t.co/f3nBMxEZHk</td>\n",
       "      <td>Jul 1, 2021</td>\n",
       "      <td>-24.7</td>\n",
       "      <td>-81.7</td>\n",
       "      <td>7.54</td>\n",
       "    </tr>\n",
       "    <tr>\n",
       "      <th>1</th>\n",
       "      <td>Perseverance sol 129 (Jun 30, 2021), high -21.7ºC/-7.1ºF, low -82.0ºC/-115.6ºF, pressure at 7.55 hPa and falling, d… https://t.co/Rai4FytQzl</td>\n",
       "      <td>Jun 30, 2021</td>\n",
       "      <td>-21.7</td>\n",
       "      <td>-82.0</td>\n",
       "      <td>7.55</td>\n",
       "    </tr>\n",
       "    <tr>\n",
       "      <th>2</th>\n",
       "      <td>Perseverance sol 128 (Jun 29, 2021), high -26.9ºC/-16.4ºF, low -81.2ºC/-114.2ºF, pressure at 7.57 hPa and steady, d… https://t.co/ycVXSMGpOv</td>\n",
       "      <td>Jun 29, 2021</td>\n",
       "      <td>-26.9</td>\n",
       "      <td>-81.2</td>\n",
       "      <td>7.57</td>\n",
       "    </tr>\n",
       "    <tr>\n",
       "      <th>3</th>\n",
       "      <td>Perseverance sol 127 (Jun 28, 2021), high -24.8ºC/-12.6ºF, low -81.3ºC/-114.3ºF, pressure at 7.57 hPa and rising, d… https://t.co/hsevN6UmS1</td>\n",
       "      <td>Jun 28, 2021</td>\n",
       "      <td>-24.8</td>\n",
       "      <td>-81.3</td>\n",
       "      <td>7.57</td>\n",
       "    </tr>\n",
       "    <tr>\n",
       "      <th>4</th>\n",
       "      <td>Perseverance sol 126 (Jun 27, 2021), high -26.6ºC/-15.9ºF, low -80.1ºC/-112.2ºF, pressure at 7.56 hPa and falling,… https://t.co/WTI8Z1VOBF</td>\n",
       "      <td>Jun 27, 2021</td>\n",
       "      <td>-26.6</td>\n",
       "      <td>-80.1</td>\n",
       "      <td>7.56</td>\n",
       "    </tr>\n",
       "    <tr>\n",
       "      <th>5</th>\n",
       "      <td>Perseverance sol 125 (Jun 26, 2021), high -24.6ºC/-12.3ºF, low -81.3ºC/-114.3ºF, pressure at 7.57 hPa and steady, daylight 05:24:08-18:28:30</td>\n",
       "      <td>Jun 26, 2021</td>\n",
       "      <td>-24.6</td>\n",
       "      <td>-81.3</td>\n",
       "      <td>7.57</td>\n",
       "    </tr>\n",
       "    <tr>\n",
       "      <th>6</th>\n",
       "      <td>Perseverance sol 124 (Jun 25, 2021), high -25.7ºC/-14.3ºF, low -81.1ºC/-114.0ºF, pressure at 7.57 hPa and falling,… https://t.co/fKH5w2H7SH</td>\n",
       "      <td>Jun 25, 2021</td>\n",
       "      <td>-25.7</td>\n",
       "      <td>-81.1</td>\n",
       "      <td>7.57</td>\n",
       "    </tr>\n",
       "    <tr>\n",
       "      <th>7</th>\n",
       "      <td>Perseverance sol 123 (Jun 24, 2021), high -23.2ºC/-9.8ºF, low -82.5ºC/-116.5ºF, pressure at 7.58 hPa and steady, daylight 05:24:56-18:28:42</td>\n",
       "      <td>Jun 24, 2021</td>\n",
       "      <td>-23.2</td>\n",
       "      <td>-82.5</td>\n",
       "      <td>7.58</td>\n",
       "    </tr>\n",
       "    <tr>\n",
       "      <th>8</th>\n",
       "      <td>Perseverance sol 122 (Jun 23, 2021), high -23.9ºC/-11.0ºF, low -81.3ºC/-114.3ºF, pressure at 7.58 hPa and rising, daylight 05:25:20-18:28:49</td>\n",
       "      <td>Jun 23, 2021</td>\n",
       "      <td>-23.9</td>\n",
       "      <td>-81.3</td>\n",
       "      <td>7.58</td>\n",
       "    </tr>\n",
       "    <tr>\n",
       "      <th>9</th>\n",
       "      <td>Perseverance sol 121 (Jun 22, 2021), high -24.7ºC/-12.5ºF, low -82.5ºC/-116.5ºF, pressure at 7.57 hPa and Unknown,… https://t.co/sosbvRZTVg</td>\n",
       "      <td>Jun 22, 2021</td>\n",
       "      <td>-24.7</td>\n",
       "      <td>-82.5</td>\n",
       "      <td>7.57</td>\n",
       "    </tr>\n",
       "    <tr>\n",
       "      <th>10</th>\n",
       "      <td>Perseverance sol 120 (Jun 21, 2021), high -25.0ºC/-13.0ºF, low -81.1ºC/-114.0ºF, pressure at 7.58 hPa and steady, d… https://t.co/IcDRBzuX1J</td>\n",
       "      <td>Jun 21, 2021</td>\n",
       "      <td>-25.0</td>\n",
       "      <td>-81.1</td>\n",
       "      <td>7.58</td>\n",
       "    </tr>\n",
       "    <tr>\n",
       "      <th>11</th>\n",
       "      <td>Perseverance sol 119 (Jun 20, 2021), high -25.0ºC/-13.0ºF, low -82.1ºC/-115.8ºF, pressure at 7.58 hPa and falling,… https://t.co/RX9Cv9VYGU</td>\n",
       "      <td>Jun 20, 2021</td>\n",
       "      <td>-25.0</td>\n",
       "      <td>-82.1</td>\n",
       "      <td>7.58</td>\n",
       "    </tr>\n",
       "  </tbody>\n",
       "</table>\n",
       "</div>"
      ],
      "text/plain": [
       "                                                                                                                                            text  \\\n",
       "0   Perseverance sol 130 (Jul 1, 2021), high -24.7ºC/-12.5ºF, low -81.7ºC/-115.1ºF, pressure at 7.54 hPa and falling, d… https://t.co/f3nBMxEZHk   \n",
       "1   Perseverance sol 129 (Jun 30, 2021), high -21.7ºC/-7.1ºF, low -82.0ºC/-115.6ºF, pressure at 7.55 hPa and falling, d… https://t.co/Rai4FytQzl   \n",
       "2   Perseverance sol 128 (Jun 29, 2021), high -26.9ºC/-16.4ºF, low -81.2ºC/-114.2ºF, pressure at 7.57 hPa and steady, d… https://t.co/ycVXSMGpOv   \n",
       "3   Perseverance sol 127 (Jun 28, 2021), high -24.8ºC/-12.6ºF, low -81.3ºC/-114.3ºF, pressure at 7.57 hPa and rising, d… https://t.co/hsevN6UmS1   \n",
       "4    Perseverance sol 126 (Jun 27, 2021), high -26.6ºC/-15.9ºF, low -80.1ºC/-112.2ºF, pressure at 7.56 hPa and falling,… https://t.co/WTI8Z1VOBF   \n",
       "5   Perseverance sol 125 (Jun 26, 2021), high -24.6ºC/-12.3ºF, low -81.3ºC/-114.3ºF, pressure at 7.57 hPa and steady, daylight 05:24:08-18:28:30   \n",
       "6    Perseverance sol 124 (Jun 25, 2021), high -25.7ºC/-14.3ºF, low -81.1ºC/-114.0ºF, pressure at 7.57 hPa and falling,… https://t.co/fKH5w2H7SH   \n",
       "7    Perseverance sol 123 (Jun 24, 2021), high -23.2ºC/-9.8ºF, low -82.5ºC/-116.5ºF, pressure at 7.58 hPa and steady, daylight 05:24:56-18:28:42   \n",
       "8   Perseverance sol 122 (Jun 23, 2021), high -23.9ºC/-11.0ºF, low -81.3ºC/-114.3ºF, pressure at 7.58 hPa and rising, daylight 05:25:20-18:28:49   \n",
       "9    Perseverance sol 121 (Jun 22, 2021), high -24.7ºC/-12.5ºF, low -82.5ºC/-116.5ºF, pressure at 7.57 hPa and Unknown,… https://t.co/sosbvRZTVg   \n",
       "10  Perseverance sol 120 (Jun 21, 2021), high -25.0ºC/-13.0ºF, low -81.1ºC/-114.0ºF, pressure at 7.58 hPa and steady, d… https://t.co/IcDRBzuX1J   \n",
       "11   Perseverance sol 119 (Jun 20, 2021), high -25.0ºC/-13.0ºF, low -82.1ºC/-115.8ºF, pressure at 7.58 hPa and falling,… https://t.co/RX9Cv9VYGU   \n",
       "\n",
       "            Date Temperature High Temperature Low Pressure  \n",
       "0    Jul 1, 2021            -24.7           -81.7     7.54  \n",
       "1   Jun 30, 2021            -21.7           -82.0     7.55  \n",
       "2   Jun 29, 2021            -26.9           -81.2     7.57  \n",
       "3   Jun 28, 2021            -24.8           -81.3     7.57  \n",
       "4   Jun 27, 2021            -26.6           -80.1     7.56  \n",
       "5   Jun 26, 2021            -24.6           -81.3     7.57  \n",
       "6   Jun 25, 2021            -25.7           -81.1     7.57  \n",
       "7   Jun 24, 2021            -23.2           -82.5     7.58  \n",
       "8   Jun 23, 2021            -23.9           -81.3     7.58  \n",
       "9   Jun 22, 2021            -24.7           -82.5     7.57  \n",
       "10  Jun 21, 2021            -25.0           -81.1     7.58  \n",
       "11  Jun 20, 2021            -25.0           -82.1     7.58  "
      ]
     },
     "execution_count": 147,
     "metadata": {},
     "output_type": "execute_result"
    }
   ],
   "source": [
    "tweetTable"
   ]
  },
  {
   "cell_type": "markdown",
   "metadata": {},
   "source": [
    "- Removing the text column and saving the dataframe into csv file."
   ]
  },
  {
   "cell_type": "code",
   "execution_count": 148,
   "metadata": {},
   "outputs": [],
   "source": [
    "marsExtract = tweetTable[['Date','Temperature High','Temperature Low','Pressure']]"
   ]
  },
  {
   "cell_type": "code",
   "execution_count": 163,
   "metadata": {},
   "outputs": [],
   "source": [
    "marsExtract.to_csv('mars_weather.csv', index=False)"
   ]
  },
  {
   "cell_type": "markdown",
   "metadata": {},
   "source": [
    "- Creating the Scatter plot using Temperature High and Pressure column and saving the plot as png image."
   ]
  },
  {
   "cell_type": "code",
   "execution_count": 154,
   "metadata": {},
   "outputs": [],
   "source": [
    "import matplotlib.pyplot as plt"
   ]
  },
  {
   "cell_type": "code",
   "execution_count": 162,
   "metadata": {},
   "outputs": [
    {
     "data": {
      "image/png": "[encoded data removed]",
      "text/plain": [
       "<Figure size 432x288 with 1 Axes>"
      ]
     },
     "metadata": {
      "needs_background": "light"
     },
     "output_type": "display_data"
    }
   ],
   "source": [
    "marsExtract.plot(kind='scatter',x='Temperature High',y='Pressure',color='red')\n",
    "plt.savefig('mars.png')\n",
    "plt.show()"
   ]
  },
  {
   "cell_type": "code",
   "execution_count": null,
   "metadata": {},
   "outputs": [],
   "source": []
  },
  {
   "cell_type": "code",
   "execution_count": null,
   "metadata": {},
   "outputs": [],
   "source": []
  }
 ],
 "metadata": {
  "kernelspec": {
   "display_name": "Python 3",
   "language": "python",
   "name": "python3"
  },
  "language_info": {
   "codemirror_mode": {
    "name": "ipython",
    "version": 3
   },
   "file_extension": ".py",
   "mimetype": "text/x-python",
   "name": "python",
   "nbconvert_exporter": "python",
   "pygments_lexer": "ipython3",
   "version": "3.7.9"
  }
 },
 "nbformat": 4,
 "nbformat_minor": 4
}
