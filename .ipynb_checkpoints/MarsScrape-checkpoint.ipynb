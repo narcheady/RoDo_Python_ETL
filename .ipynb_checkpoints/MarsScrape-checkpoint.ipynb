{
 "cells": [
  {
   "cell_type": "markdown",
   "metadata": {},
   "source": [
    "# Importing required modules for \n",
    "- Scraping twitter using twitter api\n",
    "- Pandas for saving data in dataframe\n",
    "- Matplotlib for creating visualizations"
   ]
  },
  {
   "cell_type": "code",
   "execution_count": 2,
   "metadata": {},
   "outputs": [
    {
     "name": "stdout",
     "output_type": "stream",
     "text": [
      "Requirement already satisfied: twitter in c:\\users\\ruchi\\appdata\\local\\continuum\\anaconda3\\lib\\site-packages (1.18.0)\n",
      "Note: you may need to restart the kernel to use updated packages.\n"
     ]
    }
   ],
   "source": [
    "pip install twitter"
   ]
  },
  {
   "cell_type": "code",
   "execution_count": 13,
   "metadata": {},
   "outputs": [],
   "source": [
    "import pandas as pd\n",
    "from twitter import Twitter\n",
    "from twitter import OAuth"
   ]
  },
  {
   "cell_type": "code",
   "execution_count": 35,
   "metadata": {},
   "outputs": [],
   "source": [
    "pd.set_option('display.max_colwidth', None)"
   ]
  },
  {
   "cell_type": "markdown",
   "metadata": {},
   "source": [
    "- Setting up authentication paramenters for twitter api"
   ]
  },
  {
   "cell_type": "markdown",
   "metadata": {},
   "source": [
    "accesstoken = '1306383817473699840-7lOFPXnXan5KjfF2JGlepqalGq2EaX'\n",
    "accesstokensecret= 'z0wokk3M7z7A7mHJll1UAX7QlYiPUAVv1Fx62W92awpHi'\n",
    "apikey = 'LMcVqFvyJSyBSJIiusvuv2qwz'\n",
    "apisecretkey = 'ten59LiLXRwRUVbnwwBBef52GJfifUGfAxe4mpGMoiu4cMfdIN'"
   ]
  },
  {
   "cell_type": "markdown",
   "metadata": {},
   "source": [
    "oauth=OAuth(accesstoken,accesstokensecret,apikey,apisecretkey)\n",
    "api = Twitter(auth=oauth,retry=True)"
   ]
  },
  {
   "cell_type": "markdown",
   "metadata": {},
   "source": [
    "- Searching tweets by handle marswxreport, filtering out retweets"
   ]
  },
  {
   "cell_type": "markdown",
   "metadata": {},
   "source": [
    "tweetList = api.search.tweets(q=\"marswxreport lang:en -filter:retweets\",tweetmode='extended',count=100)"
   ]
  },
  {
   "cell_type": "markdown",
   "metadata": {},
   "source": [
    "- Saving the resultset in pandas dataframe"
   ]
  },
  {
   "cell_type": "markdown",
   "metadata": {},
   "source": [
    "tweetTableUsingApi=pd.json_normalize(tweetList['statuses'])"
   ]
  },
  {
   "cell_type": "markdown",
   "metadata": {},
   "source": [
    "tweetTableUsingApi = tweetTableUsingApi[['text']]"
   ]
  },
  {
   "cell_type": "markdown",
   "metadata": {},
   "source": [
    "tweetTableUsingApi"
   ]
  },
  {
   "cell_type": "markdown",
   "metadata": {},
   "source": [
    "- Checking if there are any duplicate rows, since there aren't any we don't need to remove them"
   ]
  },
  {
   "cell_type": "markdown",
   "metadata": {},
   "source": [
    "tweetTableUsingApi['text'].value_counts()"
   ]
  },
  {
   "cell_type": "markdown",
   "metadata": {},
   "source": [
    "# Without Using API"
   ]
  },
  {
   "cell_type": "code",
   "execution_count": 15,
   "metadata": {},
   "outputs": [],
   "source": [
    "import requests\n",
    "from bs4 import BeautifulSoup"
   ]
  },
  {
   "cell_type": "code",
   "execution_count": 16,
   "metadata": {},
   "outputs": [],
   "source": [
    "contents = requests.get(\n",
    "    \"https://twitter.com/MarsWxReport\",\n",
    "    headers={\"User-Agent\": \"UCWEB/2.0 (compatible; Googlebot/2.1; +google.com/bot.html)\"}\n",
    ")\n",
    "soup = BeautifulSoup(contents.text, \"html.parser\")"
   ]
  },
  {
   "cell_type": "code",
   "execution_count": 21,
   "metadata": {},
   "outputs": [],
   "source": [
    "tweetTable = pd.DataFrame(columns=['text'])"
   ]
  },
  {
   "cell_type": "code",
   "execution_count": 22,
   "metadata": {},
   "outputs": [],
   "source": [
    "tweets_list = list()\n",
    "tweets = soup.find_all(\"div\", {\"class\": \"js-tweet-text-container\"})\n",
    "\n",
    "for tweet in tweets:\n",
    "    tweet_text = tweet.find(\"p\", {\"class\": \"TweetTextSize TweetTextSize--normal js-tweet-text tweet-text\"}).text.replace(\"\\n\", \" \").strip()\n",
    "    tweetTable = tweetTable.append({'text':tweet_text}, ignore_index = True)"
   ]
  },
  {
   "cell_type": "code",
   "execution_count": 23,
   "metadata": {},
   "outputs": [
    {
     "data": {
      "text/html": [
       "<div>\n",
       "<style scoped>\n",
       "    .dataframe tbody tr th:only-of-type {\n",
       "        vertical-align: middle;\n",
       "    }\n",
       "\n",
       "    .dataframe tbody tr th {\n",
       "        vertical-align: top;\n",
       "    }\n",
       "\n",
       "    .dataframe thead th {\n",
       "        text-align: right;\n",
       "    }\n",
       "</style>\n",
       "<table border=\"1\" class=\"dataframe\">\n",
       "  <thead>\n",
       "    <tr style=\"text-align: right;\">\n",
       "      <th></th>\n",
       "      <th>text</th>\n",
       "    </tr>\n",
       "  </thead>\n",
       "  <tbody>\n",
       "    <tr>\n",
       "      <th>0</th>\n",
       "      <td>Perseverance sol 132 (Jul 3, 2021), high -24.3ºC/-11.7ºF, low -82.4ºC/-116.3ºF, pressure at 7.54 hPa and steady, daylight 05:21:29-18:27:46pic.twitter.com/QC0I9dhtlS</td>\n",
       "    </tr>\n",
       "    <tr>\n",
       "      <th>1</th>\n",
       "      <td>Perseverance sol 131 (Jul 2, 2021), high -23.0ºC/-9.4ºF, low -82.0ºC/-115.6ºF, pressure at 7.54 hPa and steady, daylight 05:21:51-18:27:52pic.twitter.com/MH4grHVWkW</td>\n",
       "    </tr>\n",
       "    <tr>\n",
       "      <th>2</th>\n",
       "      <td>Perseverance sol 130 (Jul 1, 2021), high -24.7ºC/-12.5ºF, low -81.7ºC/-115.1ºF, pressure at 7.54 hPa and falling, daylight 05:22:14-18:27:59pic.twitter.com/TrAbWLloSz</td>\n",
       "    </tr>\n",
       "    <tr>\n",
       "      <th>3</th>\n",
       "      <td>Perseverance sol 129 (Jun 30, 2021), high -21.7ºC/-7.1ºF, low -82.0ºC/-115.6ºF, pressure at 7.55 hPa and falling, daylight 05:22:36-18:28:05pic.twitter.com/0kdTUjGfKh</td>\n",
       "    </tr>\n",
       "    <tr>\n",
       "      <th>4</th>\n",
       "      <td>Perseverance sol 128 (Jun 29, 2021), high -26.9ºC/-16.4ºF, low -81.2ºC/-114.2ºF, pressure at 7.57 hPa and steady, daylight 05:22:59-18:28:11pic.twitter.com/L1QMesMZWy</td>\n",
       "    </tr>\n",
       "    <tr>\n",
       "      <th>5</th>\n",
       "      <td>Perseverance sol 127 (Jun 28, 2021), high -24.8ºC/-12.6ºF, low -81.3ºC/-114.3ºF, pressure at 7.57 hPa and rising, daylight 05:23:22-18:28:17pic.twitter.com/BZHeMrqcyo</td>\n",
       "    </tr>\n",
       "    <tr>\n",
       "      <th>6</th>\n",
       "      <td>Perseverance sol 126 (Jun 27, 2021), high -26.6ºC/-15.9ºF, low -80.1ºC/-112.2ºF, pressure at 7.56 hPa and falling, daylight 05:23:45-18:28:24</td>\n",
       "    </tr>\n",
       "    <tr>\n",
       "      <th>7</th>\n",
       "      <td>Perseverance sol 125 (Jun 26, 2021), high -24.6ºC/-12.3ºF, low -81.3ºC/-114.3ºF, pressure at 7.57 hPa and steady, daylight 05:24:08-18:28:30</td>\n",
       "    </tr>\n",
       "    <tr>\n",
       "      <th>8</th>\n",
       "      <td>Perseverance sol 124 (Jun 25, 2021), high -25.7ºC/-14.3ºF, low -81.1ºC/-114.0ºF, pressure at 7.57 hPa and falling, daylight 05:24:32-18:28:36</td>\n",
       "    </tr>\n",
       "    <tr>\n",
       "      <th>9</th>\n",
       "      <td>Perseverance sol 123 (Jun 24, 2021), high -23.2ºC/-9.8ºF, low -82.5ºC/-116.5ºF, pressure at 7.58 hPa and steady, daylight 05:24:56-18:28:42</td>\n",
       "    </tr>\n",
       "    <tr>\n",
       "      <th>10</th>\n",
       "      <td>Perseverance sol 122 (Jun 23, 2021), high -23.9ºC/-11.0ºF, low -81.3ºC/-114.3ºF, pressure at 7.58 hPa and rising, daylight 05:25:20-18:28:49</td>\n",
       "    </tr>\n",
       "    <tr>\n",
       "      <th>11</th>\n",
       "      <td>Perseverance sol 121 (Jun 22, 2021), high -24.7ºC/-12.5ºF, low -82.5ºC/-116.5ºF, pressure at 7.57 hPa and Unknown, daylight 05:25:45-18:28:55</td>\n",
       "    </tr>\n",
       "    <tr>\n",
       "      <th>12</th>\n",
       "      <td>Perseverance sol 120 (Jun 21, 2021), high -25.0ºC/-13.0ºF, low -81.1ºC/-114.0ºF, pressure at 7.58 hPa and steady, daylight 05:26:09-18:29:01pic.twitter.com/N6mw6qUfhh</td>\n",
       "    </tr>\n",
       "    <tr>\n",
       "      <th>13</th>\n",
       "      <td>Perseverance sol 119 (Jun 20, 2021), high -25.0ºC/-13.0ºF, low -82.1ºC/-115.8ºF, pressure at 7.58 hPa and falling, daylight 05:26:34-18:29:07</td>\n",
       "    </tr>\n",
       "    <tr>\n",
       "      <th>14</th>\n",
       "      <td>Un estudio en el que participa el #CAB ha determinado que las nubes de #Venus no son habitables. El método desarrollado permitirá estudiar las atmósferas de exoplanetas. https://cab.inta-csic.es/noticias/las-nubes-de-venus-no-son-habitables/04/ …</td>\n",
       "    </tr>\n",
       "    <tr>\n",
       "      <th>15</th>\n",
       "      <td>Perseverance sol 118 (Jun 19, 2021), high -24.0ºC/-11.2ºF, low -82.5ºC/-116.5ºF, pressure at 7.59 hPa and rising, daylight 05:27:00-18:29:14pic.twitter.com/Me9XyQljem</td>\n",
       "    </tr>\n",
       "    <tr>\n",
       "      <th>16</th>\n",
       "      <td>The Sun is shining directly over the Tropic of Cancer, marking the solstice and the beginning of astronomical summer in the northern hemisphere.pic.twitter.com/oGyUW6hLzU</td>\n",
       "    </tr>\n",
       "    <tr>\n",
       "      <th>17</th>\n",
       "      <td>Perseverance sol 117 (Jun 18, 2021), high -24.4ºC/-11.9ºF, low -82.5ºC/-116.5ºF, pressure at 7.58 hPa and falling, daylight 05:27:25-18:29:20pic.twitter.com/ufMFG5lH8H</td>\n",
       "    </tr>\n",
       "    <tr>\n",
       "      <th>18</th>\n",
       "      <td>Perseverance sol 116 (Jun 17, 2021), high -22.4ºC/-8.3ºF, low -83.7ºC/-118.7ºF, pressure at 7.59 hPa and falling, daylight 05:27:51-18:29:26pic.twitter.com/tv2mBl1O5C</td>\n",
       "    </tr>\n",
       "    <tr>\n",
       "      <th>19</th>\n",
       "      <td>Perseverance sol 115 (Jun 16, 2021), high -24.8ºC/-12.6ºF, low -83.5ºC/-118.3ºF, pressure at 7.60 hPa and steady, daylight 05:28:17-18:29:33pic.twitter.com/IzRD7zpxP5</td>\n",
       "    </tr>\n",
       "  </tbody>\n",
       "</table>\n",
       "</div>"
      ],
      "text/plain": [
       "                                                                                                                                                                                                                                                      text\n",
       "0                                                                                    Perseverance sol 132 (Jul 3, 2021), high -24.3ºC/-11.7ºF, low -82.4ºC/-116.3ºF, pressure at 7.54 hPa and steady, daylight 05:21:29-18:27:46pic.twitter.com/QC0I9dhtlS\n",
       "1                                                                                     Perseverance sol 131 (Jul 2, 2021), high -23.0ºC/-9.4ºF, low -82.0ºC/-115.6ºF, pressure at 7.54 hPa and steady, daylight 05:21:51-18:27:52pic.twitter.com/MH4grHVWkW\n",
       "2                                                                                   Perseverance sol 130 (Jul 1, 2021), high -24.7ºC/-12.5ºF, low -81.7ºC/-115.1ºF, pressure at 7.54 hPa and falling, daylight 05:22:14-18:27:59pic.twitter.com/TrAbWLloSz\n",
       "3                                                                                   Perseverance sol 129 (Jun 30, 2021), high -21.7ºC/-7.1ºF, low -82.0ºC/-115.6ºF, pressure at 7.55 hPa and falling, daylight 05:22:36-18:28:05pic.twitter.com/0kdTUjGfKh\n",
       "4                                                                                   Perseverance sol 128 (Jun 29, 2021), high -26.9ºC/-16.4ºF, low -81.2ºC/-114.2ºF, pressure at 7.57 hPa and steady, daylight 05:22:59-18:28:11pic.twitter.com/L1QMesMZWy\n",
       "5                                                                                   Perseverance sol 127 (Jun 28, 2021), high -24.8ºC/-12.6ºF, low -81.3ºC/-114.3ºF, pressure at 7.57 hPa and rising, daylight 05:23:22-18:28:17pic.twitter.com/BZHeMrqcyo\n",
       "6                                                                                                            Perseverance sol 126 (Jun 27, 2021), high -26.6ºC/-15.9ºF, low -80.1ºC/-112.2ºF, pressure at 7.56 hPa and falling, daylight 05:23:45-18:28:24\n",
       "7                                                                                                             Perseverance sol 125 (Jun 26, 2021), high -24.6ºC/-12.3ºF, low -81.3ºC/-114.3ºF, pressure at 7.57 hPa and steady, daylight 05:24:08-18:28:30\n",
       "8                                                                                                            Perseverance sol 124 (Jun 25, 2021), high -25.7ºC/-14.3ºF, low -81.1ºC/-114.0ºF, pressure at 7.57 hPa and falling, daylight 05:24:32-18:28:36\n",
       "9                                                                                                              Perseverance sol 123 (Jun 24, 2021), high -23.2ºC/-9.8ºF, low -82.5ºC/-116.5ºF, pressure at 7.58 hPa and steady, daylight 05:24:56-18:28:42\n",
       "10                                                                                                            Perseverance sol 122 (Jun 23, 2021), high -23.9ºC/-11.0ºF, low -81.3ºC/-114.3ºF, pressure at 7.58 hPa and rising, daylight 05:25:20-18:28:49\n",
       "11                                                                                                           Perseverance sol 121 (Jun 22, 2021), high -24.7ºC/-12.5ºF, low -82.5ºC/-116.5ºF, pressure at 7.57 hPa and Unknown, daylight 05:25:45-18:28:55\n",
       "12                                                                                  Perseverance sol 120 (Jun 21, 2021), high -25.0ºC/-13.0ºF, low -81.1ºC/-114.0ºF, pressure at 7.58 hPa and steady, daylight 05:26:09-18:29:01pic.twitter.com/N6mw6qUfhh\n",
       "13                                                                                                           Perseverance sol 119 (Jun 20, 2021), high -25.0ºC/-13.0ºF, low -82.1ºC/-115.8ºF, pressure at 7.58 hPa and falling, daylight 05:26:34-18:29:07\n",
       "14  Un estudio en el que participa el #CAB ha determinado que las nubes de #Venus no son habitables. El método desarrollado permitirá estudiar las atmósferas de exoplanetas. https://cab.inta-csic.es/noticias/las-nubes-de-venus-no-son-habitables/04/ …\n",
       "15                                                                                  Perseverance sol 118 (Jun 19, 2021), high -24.0ºC/-11.2ºF, low -82.5ºC/-116.5ºF, pressure at 7.59 hPa and rising, daylight 05:27:00-18:29:14pic.twitter.com/Me9XyQljem\n",
       "16                                                                              The Sun is shining directly over the Tropic of Cancer, marking the solstice and the beginning of astronomical summer in the northern hemisphere.pic.twitter.com/oGyUW6hLzU\n",
       "17                                                                                 Perseverance sol 117 (Jun 18, 2021), high -24.4ºC/-11.9ºF, low -82.5ºC/-116.5ºF, pressure at 7.58 hPa and falling, daylight 05:27:25-18:29:20pic.twitter.com/ufMFG5lH8H\n",
       "18                                                                                  Perseverance sol 116 (Jun 17, 2021), high -22.4ºC/-8.3ºF, low -83.7ºC/-118.7ºF, pressure at 7.59 hPa and falling, daylight 05:27:51-18:29:26pic.twitter.com/tv2mBl1O5C\n",
       "19                                                                                  Perseverance sol 115 (Jun 16, 2021), high -24.8ºC/-12.6ºF, low -83.5ºC/-118.3ºF, pressure at 7.60 hPa and steady, daylight 05:28:17-18:29:33pic.twitter.com/IzRD7zpxP5"
      ]
     },
     "execution_count": 23,
     "metadata": {},
     "output_type": "execute_result"
    }
   ],
   "source": [
    "tweetTable"
   ]
  },
  {
   "cell_type": "markdown",
   "metadata": {},
   "source": [
    "- Testing out the RegEx on sample row for extracting required parameters."
   ]
  },
  {
   "cell_type": "code",
   "execution_count": 24,
   "metadata": {},
   "outputs": [
    {
     "data": {
      "text/plain": [
       "'Perseverance sol 128 (Jun 29, 2021), high -26.9ºC/-16.4ºF, low -81.2ºC/-114.2ºF, pressure at 7.57 hPa and steady, daylight 05:22:59-18:28:11pic.twitter.com/L1QMesMZWy'"
      ]
     },
     "execution_count": 24,
     "metadata": {},
     "output_type": "execute_result"
    }
   ],
   "source": [
    "tweetTable.iloc[4][0]"
   ]
  },
  {
   "cell_type": "code",
   "execution_count": 25,
   "metadata": {},
   "outputs": [],
   "source": [
    "import re"
   ]
  },
  {
   "cell_type": "code",
   "execution_count": 138,
   "metadata": {},
   "outputs": [],
   "source": [
    "s = \"Perseverance sol 126 (Jun 27, 2021), high -26.6ºC/-15.9ºF, low -80.1ºC/-112.2ºF, pressure at 7.56 hPa and falling,… https://t.co/WTI8Z1VOBF\""
   ]
  },
  {
   "cell_type": "code",
   "execution_count": 139,
   "metadata": {},
   "outputs": [
    {
     "data": {
      "text/plain": [
       "['Perseverance sol 126 (Jun 27',\n",
       " ' 2021)',\n",
       " ' high -26.6ºC/-15.9ºF',\n",
       " ' low -80.1ºC/-112.2ºF',\n",
       " ' pressure at 7.56 hPa and falling',\n",
       " '… https://t.co/WTI8Z1VOBF']"
      ]
     },
     "execution_count": 139,
     "metadata": {},
     "output_type": "execute_result"
    }
   ],
   "source": [
    "s.split(',')"
   ]
  },
  {
   "cell_type": "markdown",
   "metadata": {},
   "source": [
    "- Extracting Temperature Low"
   ]
  },
  {
   "cell_type": "code",
   "execution_count": 141,
   "metadata": {},
   "outputs": [
    {
     "data": {
      "text/plain": [
       "'-80.1'"
      ]
     },
     "execution_count": 141,
     "metadata": {},
     "output_type": "execute_result"
    }
   ],
   "source": [
    "#low\n",
    "s.split(',')[3].split('/')[0].split(' ')[-1].split('ºC')[0]"
   ]
  },
  {
   "cell_type": "markdown",
   "metadata": {},
   "source": [
    "- Extracting Temperature High"
   ]
  },
  {
   "cell_type": "code",
   "execution_count": 143,
   "metadata": {},
   "outputs": [
    {
     "data": {
      "text/plain": [
       "'-26.6'"
      ]
     },
     "execution_count": 143,
     "metadata": {},
     "output_type": "execute_result"
    }
   ],
   "source": [
    "#high\n",
    "s.split(',')[2].split('/')[0].split(' ')[-1].split('ºC')[0]"
   ]
  },
  {
   "cell_type": "markdown",
   "metadata": {},
   "source": [
    "- Extracting Pressure"
   ]
  },
  {
   "cell_type": "code",
   "execution_count": 145,
   "metadata": {},
   "outputs": [
    {
     "data": {
      "text/plain": [
       "'7.56'"
      ]
     },
     "execution_count": 145,
     "metadata": {},
     "output_type": "execute_result"
    }
   ],
   "source": [
    "#pressure\n",
    "s.split(',')[4].split(' ')[3]"
   ]
  },
  {
   "cell_type": "markdown",
   "metadata": {},
   "source": [
    "- Extracting Date"
   ]
  },
  {
   "cell_type": "code",
   "execution_count": 165,
   "metadata": {},
   "outputs": [
    {
     "name": "stdout",
     "output_type": "stream",
     "text": [
      "Jun 27, 2021\n"
     ]
    }
   ],
   "source": [
    "t1 = re.split('\\(([^\\)]+)\\)', s)\n",
    "print(t1[1])"
   ]
  },
  {
   "cell_type": "code",
   "execution_count": 26,
   "metadata": {},
   "outputs": [],
   "source": [
    "tweetTable['Date']=tweetTable['text'].str.extract('\\(([^\\)]+)\\)')"
   ]
  },
  {
   "cell_type": "markdown",
   "metadata": {},
   "source": [
    "- Removing the nulls, some rows were not about the weather. So we can drop them."
   ]
  },
  {
   "cell_type": "code",
   "execution_count": 27,
   "metadata": {},
   "outputs": [],
   "source": [
    "tweetTable = tweetTable.dropna()\n",
    "tweetTable = tweetTable.reset_index(drop=True)"
   ]
  },
  {
   "cell_type": "code",
   "execution_count": 28,
   "metadata": {},
   "outputs": [
    {
     "data": {
      "text/html": [
       "<div>\n",
       "<style scoped>\n",
       "    .dataframe tbody tr th:only-of-type {\n",
       "        vertical-align: middle;\n",
       "    }\n",
       "\n",
       "    .dataframe tbody tr th {\n",
       "        vertical-align: top;\n",
       "    }\n",
       "\n",
       "    .dataframe thead th {\n",
       "        text-align: right;\n",
       "    }\n",
       "</style>\n",
       "<table border=\"1\" class=\"dataframe\">\n",
       "  <thead>\n",
       "    <tr style=\"text-align: right;\">\n",
       "      <th></th>\n",
       "      <th>text</th>\n",
       "      <th>Date</th>\n",
       "    </tr>\n",
       "  </thead>\n",
       "  <tbody>\n",
       "    <tr>\n",
       "      <th>0</th>\n",
       "      <td>Perseverance sol 132 (Jul 3, 2021), high -24.3ºC/-11.7ºF, low -82.4ºC/-116.3ºF, pressure at 7.54 hPa and steady, daylight 05:21:29-18:27:46pic.twitter.com/QC0I9dhtlS</td>\n",
       "      <td>Jul 3, 2021</td>\n",
       "    </tr>\n",
       "    <tr>\n",
       "      <th>1</th>\n",
       "      <td>Perseverance sol 131 (Jul 2, 2021), high -23.0ºC/-9.4ºF, low -82.0ºC/-115.6ºF, pressure at 7.54 hPa and steady, daylight 05:21:51-18:27:52pic.twitter.com/MH4grHVWkW</td>\n",
       "      <td>Jul 2, 2021</td>\n",
       "    </tr>\n",
       "    <tr>\n",
       "      <th>2</th>\n",
       "      <td>Perseverance sol 130 (Jul 1, 2021), high -24.7ºC/-12.5ºF, low -81.7ºC/-115.1ºF, pressure at 7.54 hPa and falling, daylight 05:22:14-18:27:59pic.twitter.com/TrAbWLloSz</td>\n",
       "      <td>Jul 1, 2021</td>\n",
       "    </tr>\n",
       "    <tr>\n",
       "      <th>3</th>\n",
       "      <td>Perseverance sol 129 (Jun 30, 2021), high -21.7ºC/-7.1ºF, low -82.0ºC/-115.6ºF, pressure at 7.55 hPa and falling, daylight 05:22:36-18:28:05pic.twitter.com/0kdTUjGfKh</td>\n",
       "      <td>Jun 30, 2021</td>\n",
       "    </tr>\n",
       "    <tr>\n",
       "      <th>4</th>\n",
       "      <td>Perseverance sol 128 (Jun 29, 2021), high -26.9ºC/-16.4ºF, low -81.2ºC/-114.2ºF, pressure at 7.57 hPa and steady, daylight 05:22:59-18:28:11pic.twitter.com/L1QMesMZWy</td>\n",
       "      <td>Jun 29, 2021</td>\n",
       "    </tr>\n",
       "    <tr>\n",
       "      <th>5</th>\n",
       "      <td>Perseverance sol 127 (Jun 28, 2021), high -24.8ºC/-12.6ºF, low -81.3ºC/-114.3ºF, pressure at 7.57 hPa and rising, daylight 05:23:22-18:28:17pic.twitter.com/BZHeMrqcyo</td>\n",
       "      <td>Jun 28, 2021</td>\n",
       "    </tr>\n",
       "    <tr>\n",
       "      <th>6</th>\n",
       "      <td>Perseverance sol 126 (Jun 27, 2021), high -26.6ºC/-15.9ºF, low -80.1ºC/-112.2ºF, pressure at 7.56 hPa and falling, daylight 05:23:45-18:28:24</td>\n",
       "      <td>Jun 27, 2021</td>\n",
       "    </tr>\n",
       "    <tr>\n",
       "      <th>7</th>\n",
       "      <td>Perseverance sol 125 (Jun 26, 2021), high -24.6ºC/-12.3ºF, low -81.3ºC/-114.3ºF, pressure at 7.57 hPa and steady, daylight 05:24:08-18:28:30</td>\n",
       "      <td>Jun 26, 2021</td>\n",
       "    </tr>\n",
       "    <tr>\n",
       "      <th>8</th>\n",
       "      <td>Perseverance sol 124 (Jun 25, 2021), high -25.7ºC/-14.3ºF, low -81.1ºC/-114.0ºF, pressure at 7.57 hPa and falling, daylight 05:24:32-18:28:36</td>\n",
       "      <td>Jun 25, 2021</td>\n",
       "    </tr>\n",
       "    <tr>\n",
       "      <th>9</th>\n",
       "      <td>Perseverance sol 123 (Jun 24, 2021), high -23.2ºC/-9.8ºF, low -82.5ºC/-116.5ºF, pressure at 7.58 hPa and steady, daylight 05:24:56-18:28:42</td>\n",
       "      <td>Jun 24, 2021</td>\n",
       "    </tr>\n",
       "    <tr>\n",
       "      <th>10</th>\n",
       "      <td>Perseverance sol 122 (Jun 23, 2021), high -23.9ºC/-11.0ºF, low -81.3ºC/-114.3ºF, pressure at 7.58 hPa and rising, daylight 05:25:20-18:28:49</td>\n",
       "      <td>Jun 23, 2021</td>\n",
       "    </tr>\n",
       "    <tr>\n",
       "      <th>11</th>\n",
       "      <td>Perseverance sol 121 (Jun 22, 2021), high -24.7ºC/-12.5ºF, low -82.5ºC/-116.5ºF, pressure at 7.57 hPa and Unknown, daylight 05:25:45-18:28:55</td>\n",
       "      <td>Jun 22, 2021</td>\n",
       "    </tr>\n",
       "    <tr>\n",
       "      <th>12</th>\n",
       "      <td>Perseverance sol 120 (Jun 21, 2021), high -25.0ºC/-13.0ºF, low -81.1ºC/-114.0ºF, pressure at 7.58 hPa and steady, daylight 05:26:09-18:29:01pic.twitter.com/N6mw6qUfhh</td>\n",
       "      <td>Jun 21, 2021</td>\n",
       "    </tr>\n",
       "    <tr>\n",
       "      <th>13</th>\n",
       "      <td>Perseverance sol 119 (Jun 20, 2021), high -25.0ºC/-13.0ºF, low -82.1ºC/-115.8ºF, pressure at 7.58 hPa and falling, daylight 05:26:34-18:29:07</td>\n",
       "      <td>Jun 20, 2021</td>\n",
       "    </tr>\n",
       "    <tr>\n",
       "      <th>14</th>\n",
       "      <td>Perseverance sol 118 (Jun 19, 2021), high -24.0ºC/-11.2ºF, low -82.5ºC/-116.5ºF, pressure at 7.59 hPa and rising, daylight 05:27:00-18:29:14pic.twitter.com/Me9XyQljem</td>\n",
       "      <td>Jun 19, 2021</td>\n",
       "    </tr>\n",
       "    <tr>\n",
       "      <th>15</th>\n",
       "      <td>Perseverance sol 117 (Jun 18, 2021), high -24.4ºC/-11.9ºF, low -82.5ºC/-116.5ºF, pressure at 7.58 hPa and falling, daylight 05:27:25-18:29:20pic.twitter.com/ufMFG5lH8H</td>\n",
       "      <td>Jun 18, 2021</td>\n",
       "    </tr>\n",
       "    <tr>\n",
       "      <th>16</th>\n",
       "      <td>Perseverance sol 116 (Jun 17, 2021), high -22.4ºC/-8.3ºF, low -83.7ºC/-118.7ºF, pressure at 7.59 hPa and falling, daylight 05:27:51-18:29:26pic.twitter.com/tv2mBl1O5C</td>\n",
       "      <td>Jun 17, 2021</td>\n",
       "    </tr>\n",
       "    <tr>\n",
       "      <th>17</th>\n",
       "      <td>Perseverance sol 115 (Jun 16, 2021), high -24.8ºC/-12.6ºF, low -83.5ºC/-118.3ºF, pressure at 7.60 hPa and steady, daylight 05:28:17-18:29:33pic.twitter.com/IzRD7zpxP5</td>\n",
       "      <td>Jun 16, 2021</td>\n",
       "    </tr>\n",
       "  </tbody>\n",
       "</table>\n",
       "</div>"
      ],
      "text/plain": [
       "                                                                                                                                                                       text  \\\n",
       "0     Perseverance sol 132 (Jul 3, 2021), high -24.3ºC/-11.7ºF, low -82.4ºC/-116.3ºF, pressure at 7.54 hPa and steady, daylight 05:21:29-18:27:46pic.twitter.com/QC0I9dhtlS   \n",
       "1      Perseverance sol 131 (Jul 2, 2021), high -23.0ºC/-9.4ºF, low -82.0ºC/-115.6ºF, pressure at 7.54 hPa and steady, daylight 05:21:51-18:27:52pic.twitter.com/MH4grHVWkW   \n",
       "2    Perseverance sol 130 (Jul 1, 2021), high -24.7ºC/-12.5ºF, low -81.7ºC/-115.1ºF, pressure at 7.54 hPa and falling, daylight 05:22:14-18:27:59pic.twitter.com/TrAbWLloSz   \n",
       "3    Perseverance sol 129 (Jun 30, 2021), high -21.7ºC/-7.1ºF, low -82.0ºC/-115.6ºF, pressure at 7.55 hPa and falling, daylight 05:22:36-18:28:05pic.twitter.com/0kdTUjGfKh   \n",
       "4    Perseverance sol 128 (Jun 29, 2021), high -26.9ºC/-16.4ºF, low -81.2ºC/-114.2ºF, pressure at 7.57 hPa and steady, daylight 05:22:59-18:28:11pic.twitter.com/L1QMesMZWy   \n",
       "5    Perseverance sol 127 (Jun 28, 2021), high -24.8ºC/-12.6ºF, low -81.3ºC/-114.3ºF, pressure at 7.57 hPa and rising, daylight 05:23:22-18:28:17pic.twitter.com/BZHeMrqcyo   \n",
       "6                             Perseverance sol 126 (Jun 27, 2021), high -26.6ºC/-15.9ºF, low -80.1ºC/-112.2ºF, pressure at 7.56 hPa and falling, daylight 05:23:45-18:28:24   \n",
       "7                              Perseverance sol 125 (Jun 26, 2021), high -24.6ºC/-12.3ºF, low -81.3ºC/-114.3ºF, pressure at 7.57 hPa and steady, daylight 05:24:08-18:28:30   \n",
       "8                             Perseverance sol 124 (Jun 25, 2021), high -25.7ºC/-14.3ºF, low -81.1ºC/-114.0ºF, pressure at 7.57 hPa and falling, daylight 05:24:32-18:28:36   \n",
       "9                               Perseverance sol 123 (Jun 24, 2021), high -23.2ºC/-9.8ºF, low -82.5ºC/-116.5ºF, pressure at 7.58 hPa and steady, daylight 05:24:56-18:28:42   \n",
       "10                             Perseverance sol 122 (Jun 23, 2021), high -23.9ºC/-11.0ºF, low -81.3ºC/-114.3ºF, pressure at 7.58 hPa and rising, daylight 05:25:20-18:28:49   \n",
       "11                            Perseverance sol 121 (Jun 22, 2021), high -24.7ºC/-12.5ºF, low -82.5ºC/-116.5ºF, pressure at 7.57 hPa and Unknown, daylight 05:25:45-18:28:55   \n",
       "12   Perseverance sol 120 (Jun 21, 2021), high -25.0ºC/-13.0ºF, low -81.1ºC/-114.0ºF, pressure at 7.58 hPa and steady, daylight 05:26:09-18:29:01pic.twitter.com/N6mw6qUfhh   \n",
       "13                            Perseverance sol 119 (Jun 20, 2021), high -25.0ºC/-13.0ºF, low -82.1ºC/-115.8ºF, pressure at 7.58 hPa and falling, daylight 05:26:34-18:29:07   \n",
       "14   Perseverance sol 118 (Jun 19, 2021), high -24.0ºC/-11.2ºF, low -82.5ºC/-116.5ºF, pressure at 7.59 hPa and rising, daylight 05:27:00-18:29:14pic.twitter.com/Me9XyQljem   \n",
       "15  Perseverance sol 117 (Jun 18, 2021), high -24.4ºC/-11.9ºF, low -82.5ºC/-116.5ºF, pressure at 7.58 hPa and falling, daylight 05:27:25-18:29:20pic.twitter.com/ufMFG5lH8H   \n",
       "16   Perseverance sol 116 (Jun 17, 2021), high -22.4ºC/-8.3ºF, low -83.7ºC/-118.7ºF, pressure at 7.59 hPa and falling, daylight 05:27:51-18:29:26pic.twitter.com/tv2mBl1O5C   \n",
       "17   Perseverance sol 115 (Jun 16, 2021), high -24.8ºC/-12.6ºF, low -83.5ºC/-118.3ºF, pressure at 7.60 hPa and steady, daylight 05:28:17-18:29:33pic.twitter.com/IzRD7zpxP5   \n",
       "\n",
       "            Date  \n",
       "0    Jul 3, 2021  \n",
       "1    Jul 2, 2021  \n",
       "2    Jul 1, 2021  \n",
       "3   Jun 30, 2021  \n",
       "4   Jun 29, 2021  \n",
       "5   Jun 28, 2021  \n",
       "6   Jun 27, 2021  \n",
       "7   Jun 26, 2021  \n",
       "8   Jun 25, 2021  \n",
       "9   Jun 24, 2021  \n",
       "10  Jun 23, 2021  \n",
       "11  Jun 22, 2021  \n",
       "12  Jun 21, 2021  \n",
       "13  Jun 20, 2021  \n",
       "14  Jun 19, 2021  \n",
       "15  Jun 18, 2021  \n",
       "16  Jun 17, 2021  \n",
       "17  Jun 16, 2021  "
      ]
     },
     "execution_count": 28,
     "metadata": {},
     "output_type": "execute_result"
    }
   ],
   "source": [
    "tweetTable"
   ]
  },
  {
   "cell_type": "markdown",
   "metadata": {},
   "source": [
    "- Applying the above tested RegEx on the DataFrame for creating the required columns"
   ]
  },
  {
   "cell_type": "code",
   "execution_count": 29,
   "metadata": {},
   "outputs": [],
   "source": [
    "for i in tweetTable.index:\n",
    "    tweetTable.at[i, 'Temperature High'] = tweetTable.at[i, 'text'].split(',')[2].split('/')[0].split(' ')[-1].split('ºC')[0]\n",
    "    tweetTable.at[i, 'Temperature Low'] = tweetTable.at[i, 'text'].split(',')[3].split('/')[0].split(' ')[-1].split('ºC')[0]\n",
    "    tweetTable.at[i, 'Pressure'] = tweetTable.at[i, 'text'].split(',')[4].split(' ')[3]"
   ]
  },
  {
   "cell_type": "code",
   "execution_count": 30,
   "metadata": {},
   "outputs": [
    {
     "data": {
      "text/html": [
       "<div>\n",
       "<style scoped>\n",
       "    .dataframe tbody tr th:only-of-type {\n",
       "        vertical-align: middle;\n",
       "    }\n",
       "\n",
       "    .dataframe tbody tr th {\n",
       "        vertical-align: top;\n",
       "    }\n",
       "\n",
       "    .dataframe thead th {\n",
       "        text-align: right;\n",
       "    }\n",
       "</style>\n",
       "<table border=\"1\" class=\"dataframe\">\n",
       "  <thead>\n",
       "    <tr style=\"text-align: right;\">\n",
       "      <th></th>\n",
       "      <th>text</th>\n",
       "      <th>Date</th>\n",
       "      <th>Temperature High</th>\n",
       "      <th>Temperature Low</th>\n",
       "      <th>Pressure</th>\n",
       "    </tr>\n",
       "  </thead>\n",
       "  <tbody>\n",
       "    <tr>\n",
       "      <th>0</th>\n",
       "      <td>Perseverance sol 132 (Jul 3, 2021), high -24.3ºC/-11.7ºF, low -82.4ºC/-116.3ºF, pressure at 7.54 hPa and steady, daylight 05:21:29-18:27:46pic.twitter.com/QC0I9dhtlS</td>\n",
       "      <td>Jul 3, 2021</td>\n",
       "      <td>-24.3</td>\n",
       "      <td>-82.4</td>\n",
       "      <td>7.54</td>\n",
       "    </tr>\n",
       "    <tr>\n",
       "      <th>1</th>\n",
       "      <td>Perseverance sol 131 (Jul 2, 2021), high -23.0ºC/-9.4ºF, low -82.0ºC/-115.6ºF, pressure at 7.54 hPa and steady, daylight 05:21:51-18:27:52pic.twitter.com/MH4grHVWkW</td>\n",
       "      <td>Jul 2, 2021</td>\n",
       "      <td>-23.0</td>\n",
       "      <td>-82.0</td>\n",
       "      <td>7.54</td>\n",
       "    </tr>\n",
       "    <tr>\n",
       "      <th>2</th>\n",
       "      <td>Perseverance sol 130 (Jul 1, 2021), high -24.7ºC/-12.5ºF, low -81.7ºC/-115.1ºF, pressure at 7.54 hPa and falling, daylight 05:22:14-18:27:59pic.twitter.com/TrAbWLloSz</td>\n",
       "      <td>Jul 1, 2021</td>\n",
       "      <td>-24.7</td>\n",
       "      <td>-81.7</td>\n",
       "      <td>7.54</td>\n",
       "    </tr>\n",
       "    <tr>\n",
       "      <th>3</th>\n",
       "      <td>Perseverance sol 129 (Jun 30, 2021), high -21.7ºC/-7.1ºF, low -82.0ºC/-115.6ºF, pressure at 7.55 hPa and falling, daylight 05:22:36-18:28:05pic.twitter.com/0kdTUjGfKh</td>\n",
       "      <td>Jun 30, 2021</td>\n",
       "      <td>-21.7</td>\n",
       "      <td>-82.0</td>\n",
       "      <td>7.55</td>\n",
       "    </tr>\n",
       "    <tr>\n",
       "      <th>4</th>\n",
       "      <td>Perseverance sol 128 (Jun 29, 2021), high -26.9ºC/-16.4ºF, low -81.2ºC/-114.2ºF, pressure at 7.57 hPa and steady, daylight 05:22:59-18:28:11pic.twitter.com/L1QMesMZWy</td>\n",
       "      <td>Jun 29, 2021</td>\n",
       "      <td>-26.9</td>\n",
       "      <td>-81.2</td>\n",
       "      <td>7.57</td>\n",
       "    </tr>\n",
       "    <tr>\n",
       "      <th>5</th>\n",
       "      <td>Perseverance sol 127 (Jun 28, 2021), high -24.8ºC/-12.6ºF, low -81.3ºC/-114.3ºF, pressure at 7.57 hPa and rising, daylight 05:23:22-18:28:17pic.twitter.com/BZHeMrqcyo</td>\n",
       "      <td>Jun 28, 2021</td>\n",
       "      <td>-24.8</td>\n",
       "      <td>-81.3</td>\n",
       "      <td>7.57</td>\n",
       "    </tr>\n",
       "    <tr>\n",
       "      <th>6</th>\n",
       "      <td>Perseverance sol 126 (Jun 27, 2021), high -26.6ºC/-15.9ºF, low -80.1ºC/-112.2ºF, pressure at 7.56 hPa and falling, daylight 05:23:45-18:28:24</td>\n",
       "      <td>Jun 27, 2021</td>\n",
       "      <td>-26.6</td>\n",
       "      <td>-80.1</td>\n",
       "      <td>7.56</td>\n",
       "    </tr>\n",
       "    <tr>\n",
       "      <th>7</th>\n",
       "      <td>Perseverance sol 125 (Jun 26, 2021), high -24.6ºC/-12.3ºF, low -81.3ºC/-114.3ºF, pressure at 7.57 hPa and steady, daylight 05:24:08-18:28:30</td>\n",
       "      <td>Jun 26, 2021</td>\n",
       "      <td>-24.6</td>\n",
       "      <td>-81.3</td>\n",
       "      <td>7.57</td>\n",
       "    </tr>\n",
       "    <tr>\n",
       "      <th>8</th>\n",
       "      <td>Perseverance sol 124 (Jun 25, 2021), high -25.7ºC/-14.3ºF, low -81.1ºC/-114.0ºF, pressure at 7.57 hPa and falling, daylight 05:24:32-18:28:36</td>\n",
       "      <td>Jun 25, 2021</td>\n",
       "      <td>-25.7</td>\n",
       "      <td>-81.1</td>\n",
       "      <td>7.57</td>\n",
       "    </tr>\n",
       "    <tr>\n",
       "      <th>9</th>\n",
       "      <td>Perseverance sol 123 (Jun 24, 2021), high -23.2ºC/-9.8ºF, low -82.5ºC/-116.5ºF, pressure at 7.58 hPa and steady, daylight 05:24:56-18:28:42</td>\n",
       "      <td>Jun 24, 2021</td>\n",
       "      <td>-23.2</td>\n",
       "      <td>-82.5</td>\n",
       "      <td>7.58</td>\n",
       "    </tr>\n",
       "    <tr>\n",
       "      <th>10</th>\n",
       "      <td>Perseverance sol 122 (Jun 23, 2021), high -23.9ºC/-11.0ºF, low -81.3ºC/-114.3ºF, pressure at 7.58 hPa and rising, daylight 05:25:20-18:28:49</td>\n",
       "      <td>Jun 23, 2021</td>\n",
       "      <td>-23.9</td>\n",
       "      <td>-81.3</td>\n",
       "      <td>7.58</td>\n",
       "    </tr>\n",
       "    <tr>\n",
       "      <th>11</th>\n",
       "      <td>Perseverance sol 121 (Jun 22, 2021), high -24.7ºC/-12.5ºF, low -82.5ºC/-116.5ºF, pressure at 7.57 hPa and Unknown, daylight 05:25:45-18:28:55</td>\n",
       "      <td>Jun 22, 2021</td>\n",
       "      <td>-24.7</td>\n",
       "      <td>-82.5</td>\n",
       "      <td>7.57</td>\n",
       "    </tr>\n",
       "    <tr>\n",
       "      <th>12</th>\n",
       "      <td>Perseverance sol 120 (Jun 21, 2021), high -25.0ºC/-13.0ºF, low -81.1ºC/-114.0ºF, pressure at 7.58 hPa and steady, daylight 05:26:09-18:29:01pic.twitter.com/N6mw6qUfhh</td>\n",
       "      <td>Jun 21, 2021</td>\n",
       "      <td>-25.0</td>\n",
       "      <td>-81.1</td>\n",
       "      <td>7.58</td>\n",
       "    </tr>\n",
       "    <tr>\n",
       "      <th>13</th>\n",
       "      <td>Perseverance sol 119 (Jun 20, 2021), high -25.0ºC/-13.0ºF, low -82.1ºC/-115.8ºF, pressure at 7.58 hPa and falling, daylight 05:26:34-18:29:07</td>\n",
       "      <td>Jun 20, 2021</td>\n",
       "      <td>-25.0</td>\n",
       "      <td>-82.1</td>\n",
       "      <td>7.58</td>\n",
       "    </tr>\n",
       "    <tr>\n",
       "      <th>14</th>\n",
       "      <td>Perseverance sol 118 (Jun 19, 2021), high -24.0ºC/-11.2ºF, low -82.5ºC/-116.5ºF, pressure at 7.59 hPa and rising, daylight 05:27:00-18:29:14pic.twitter.com/Me9XyQljem</td>\n",
       "      <td>Jun 19, 2021</td>\n",
       "      <td>-24.0</td>\n",
       "      <td>-82.5</td>\n",
       "      <td>7.59</td>\n",
       "    </tr>\n",
       "    <tr>\n",
       "      <th>15</th>\n",
       "      <td>Perseverance sol 117 (Jun 18, 2021), high -24.4ºC/-11.9ºF, low -82.5ºC/-116.5ºF, pressure at 7.58 hPa and falling, daylight 05:27:25-18:29:20pic.twitter.com/ufMFG5lH8H</td>\n",
       "      <td>Jun 18, 2021</td>\n",
       "      <td>-24.4</td>\n",
       "      <td>-82.5</td>\n",
       "      <td>7.58</td>\n",
       "    </tr>\n",
       "    <tr>\n",
       "      <th>16</th>\n",
       "      <td>Perseverance sol 116 (Jun 17, 2021), high -22.4ºC/-8.3ºF, low -83.7ºC/-118.7ºF, pressure at 7.59 hPa and falling, daylight 05:27:51-18:29:26pic.twitter.com/tv2mBl1O5C</td>\n",
       "      <td>Jun 17, 2021</td>\n",
       "      <td>-22.4</td>\n",
       "      <td>-83.7</td>\n",
       "      <td>7.59</td>\n",
       "    </tr>\n",
       "    <tr>\n",
       "      <th>17</th>\n",
       "      <td>Perseverance sol 115 (Jun 16, 2021), high -24.8ºC/-12.6ºF, low -83.5ºC/-118.3ºF, pressure at 7.60 hPa and steady, daylight 05:28:17-18:29:33pic.twitter.com/IzRD7zpxP5</td>\n",
       "      <td>Jun 16, 2021</td>\n",
       "      <td>-24.8</td>\n",
       "      <td>-83.5</td>\n",
       "      <td>7.60</td>\n",
       "    </tr>\n",
       "  </tbody>\n",
       "</table>\n",
       "</div>"
      ],
      "text/plain": [
       "                                                                                                                                                                       text  \\\n",
       "0     Perseverance sol 132 (Jul 3, 2021), high -24.3ºC/-11.7ºF, low -82.4ºC/-116.3ºF, pressure at 7.54 hPa and steady, daylight 05:21:29-18:27:46pic.twitter.com/QC0I9dhtlS   \n",
       "1      Perseverance sol 131 (Jul 2, 2021), high -23.0ºC/-9.4ºF, low -82.0ºC/-115.6ºF, pressure at 7.54 hPa and steady, daylight 05:21:51-18:27:52pic.twitter.com/MH4grHVWkW   \n",
       "2    Perseverance sol 130 (Jul 1, 2021), high -24.7ºC/-12.5ºF, low -81.7ºC/-115.1ºF, pressure at 7.54 hPa and falling, daylight 05:22:14-18:27:59pic.twitter.com/TrAbWLloSz   \n",
       "3    Perseverance sol 129 (Jun 30, 2021), high -21.7ºC/-7.1ºF, low -82.0ºC/-115.6ºF, pressure at 7.55 hPa and falling, daylight 05:22:36-18:28:05pic.twitter.com/0kdTUjGfKh   \n",
       "4    Perseverance sol 128 (Jun 29, 2021), high -26.9ºC/-16.4ºF, low -81.2ºC/-114.2ºF, pressure at 7.57 hPa and steady, daylight 05:22:59-18:28:11pic.twitter.com/L1QMesMZWy   \n",
       "5    Perseverance sol 127 (Jun 28, 2021), high -24.8ºC/-12.6ºF, low -81.3ºC/-114.3ºF, pressure at 7.57 hPa and rising, daylight 05:23:22-18:28:17pic.twitter.com/BZHeMrqcyo   \n",
       "6                             Perseverance sol 126 (Jun 27, 2021), high -26.6ºC/-15.9ºF, low -80.1ºC/-112.2ºF, pressure at 7.56 hPa and falling, daylight 05:23:45-18:28:24   \n",
       "7                              Perseverance sol 125 (Jun 26, 2021), high -24.6ºC/-12.3ºF, low -81.3ºC/-114.3ºF, pressure at 7.57 hPa and steady, daylight 05:24:08-18:28:30   \n",
       "8                             Perseverance sol 124 (Jun 25, 2021), high -25.7ºC/-14.3ºF, low -81.1ºC/-114.0ºF, pressure at 7.57 hPa and falling, daylight 05:24:32-18:28:36   \n",
       "9                               Perseverance sol 123 (Jun 24, 2021), high -23.2ºC/-9.8ºF, low -82.5ºC/-116.5ºF, pressure at 7.58 hPa and steady, daylight 05:24:56-18:28:42   \n",
       "10                             Perseverance sol 122 (Jun 23, 2021), high -23.9ºC/-11.0ºF, low -81.3ºC/-114.3ºF, pressure at 7.58 hPa and rising, daylight 05:25:20-18:28:49   \n",
       "11                            Perseverance sol 121 (Jun 22, 2021), high -24.7ºC/-12.5ºF, low -82.5ºC/-116.5ºF, pressure at 7.57 hPa and Unknown, daylight 05:25:45-18:28:55   \n",
       "12   Perseverance sol 120 (Jun 21, 2021), high -25.0ºC/-13.0ºF, low -81.1ºC/-114.0ºF, pressure at 7.58 hPa and steady, daylight 05:26:09-18:29:01pic.twitter.com/N6mw6qUfhh   \n",
       "13                            Perseverance sol 119 (Jun 20, 2021), high -25.0ºC/-13.0ºF, low -82.1ºC/-115.8ºF, pressure at 7.58 hPa and falling, daylight 05:26:34-18:29:07   \n",
       "14   Perseverance sol 118 (Jun 19, 2021), high -24.0ºC/-11.2ºF, low -82.5ºC/-116.5ºF, pressure at 7.59 hPa and rising, daylight 05:27:00-18:29:14pic.twitter.com/Me9XyQljem   \n",
       "15  Perseverance sol 117 (Jun 18, 2021), high -24.4ºC/-11.9ºF, low -82.5ºC/-116.5ºF, pressure at 7.58 hPa and falling, daylight 05:27:25-18:29:20pic.twitter.com/ufMFG5lH8H   \n",
       "16   Perseverance sol 116 (Jun 17, 2021), high -22.4ºC/-8.3ºF, low -83.7ºC/-118.7ºF, pressure at 7.59 hPa and falling, daylight 05:27:51-18:29:26pic.twitter.com/tv2mBl1O5C   \n",
       "17   Perseverance sol 115 (Jun 16, 2021), high -24.8ºC/-12.6ºF, low -83.5ºC/-118.3ºF, pressure at 7.60 hPa and steady, daylight 05:28:17-18:29:33pic.twitter.com/IzRD7zpxP5   \n",
       "\n",
       "            Date Temperature High Temperature Low Pressure  \n",
       "0    Jul 3, 2021            -24.3           -82.4     7.54  \n",
       "1    Jul 2, 2021            -23.0           -82.0     7.54  \n",
       "2    Jul 1, 2021            -24.7           -81.7     7.54  \n",
       "3   Jun 30, 2021            -21.7           -82.0     7.55  \n",
       "4   Jun 29, 2021            -26.9           -81.2     7.57  \n",
       "5   Jun 28, 2021            -24.8           -81.3     7.57  \n",
       "6   Jun 27, 2021            -26.6           -80.1     7.56  \n",
       "7   Jun 26, 2021            -24.6           -81.3     7.57  \n",
       "8   Jun 25, 2021            -25.7           -81.1     7.57  \n",
       "9   Jun 24, 2021            -23.2           -82.5     7.58  \n",
       "10  Jun 23, 2021            -23.9           -81.3     7.58  \n",
       "11  Jun 22, 2021            -24.7           -82.5     7.57  \n",
       "12  Jun 21, 2021            -25.0           -81.1     7.58  \n",
       "13  Jun 20, 2021            -25.0           -82.1     7.58  \n",
       "14  Jun 19, 2021            -24.0           -82.5     7.59  \n",
       "15  Jun 18, 2021            -24.4           -82.5     7.58  \n",
       "16  Jun 17, 2021            -22.4           -83.7     7.59  \n",
       "17  Jun 16, 2021            -24.8           -83.5     7.60  "
      ]
     },
     "execution_count": 30,
     "metadata": {},
     "output_type": "execute_result"
    }
   ],
   "source": [
    "tweetTable"
   ]
  },
  {
   "cell_type": "markdown",
   "metadata": {},
   "source": [
    "- Removing the text column and saving the dataframe into csv file."
   ]
  },
  {
   "cell_type": "code",
   "execution_count": 31,
   "metadata": {},
   "outputs": [],
   "source": [
    "marsExtract = tweetTable[['Date','Temperature High','Temperature Low','Pressure']]"
   ]
  },
  {
   "cell_type": "code",
   "execution_count": 32,
   "metadata": {},
   "outputs": [],
   "source": [
    "marsExtract.to_csv('mars_weather.csv', index=False)"
   ]
  },
  {
   "cell_type": "markdown",
   "metadata": {},
   "source": [
    "- Creating the Scatter plot using Temperature High and Pressure column and saving the plot as png image."
   ]
  },
  {
   "cell_type": "code",
   "execution_count": 33,
   "metadata": {},
   "outputs": [],
   "source": [
    "import matplotlib.pyplot as plt"
   ]
  },
  {
   "cell_type": "code",
   "execution_count": 34,
   "metadata": {},
   "outputs": [
    {
     "data": {
      "image/png": "[encoded data removed]",
      "text/plain": [
       "<Figure size 432x288 with 1 Axes>"
      ]
     },
     "metadata": {
      "needs_background": "light"
     },
     "output_type": "display_data"
    }
   ],
   "source": [
    "marsExtract.plot(kind='scatter',x='Temperature High',y='Pressure',color='red')\n",
    "plt.savefig('mars.png')\n",
    "plt.show()"
   ]
  },
  {
   "cell_type": "code",
   "execution_count": null,
   "metadata": {},
   "outputs": [],
   "source": []
  },
  {
   "cell_type": "code",
   "execution_count": null,
   "metadata": {},
   "outputs": [],
   "source": []
  },
  {
   "cell_type": "code",
   "execution_count": null,
   "metadata": {},
   "outputs": [],
   "source": []
  }
 ],
 "metadata": {
  "kernelspec": {
   "display_name": "Python 3",
   "language": "python",
   "name": "python3"
  },
  "language_info": {
   "codemirror_mode": {
    "name": "ipython",
    "version": 3
   },
   "file_extension": ".py",
   "mimetype": "text/x-python",
   "name": "python",
   "nbconvert_exporter": "python",
   "pygments_lexer": "ipython3",
   "version": "3.7.9"
  }
 },
 "nbformat": 4,
 "nbformat_minor": 4
}
